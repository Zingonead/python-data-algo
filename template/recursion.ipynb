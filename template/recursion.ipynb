{
 "cells": [
  {
   "attachments": {},
   "cell_type": "markdown",
   "metadata": {},
   "source": [
    "# Recursion"
   ]
  },
  {
   "attachments": {},
   "cell_type": "markdown",
   "metadata": {},
   "source": [
    "Recursion is a programming technique in which a function calls itself. The function defines a base case, which is a simple condition that stops the recursion, and a recursive case, which is the condition that triggers the function to call itself.  \n",
    "<br>\n",
    "Recursion can be used to solve problems that can be broken down into smaller, similar sub-problems. For example, a problem that involves traversing a tree can be solved recursively by traversing the left subtree, the right subtree, and the root node of the tree.  \n",
    "<br>\n",
    "The basic idea behind recursion is that a problem can be broken down into smaller and smaller sub-problems until a base case is reached. Each recursive call to the function solves one of these sub-problems, and the final solution is obtained by combining the solutions of all the sub-problems.  \n",
    "<br>\n",
    "The recursion can be visualized as a call stack, each time a function calls itself it creates a new frame in the stack, and the function execution is paused until the current frame's function returns. Each frame of the stack represents a sub-problem that needs to be solved, when all the sub-problems are solved the function returns the final result.  \n",
    "<br>\n",
    "Recursion can be powerful, but it can also make the code hard to read and understand, also it can lead to stack overflow errors if the recursion is not well implemented."
   ]
  },
  {
   "attachments": {},
   "cell_type": "markdown",
   "metadata": {},
   "source": [
    "When implementing recursion, ask yourself:  \n",
    "\n",
    "* what is the least amount of work I want to perform each iteration? (e.g. print, add 1 to count, adding up to list [value])\n",
    "* what is the base case? (e.g. value = None)\n",
    "* how do I want to organise the result (e.g. (iteration1, print base-case-1, iteration2))"
   ]
  },
  {
   "cell_type": "markdown",
   "metadata": {},
   "source": []
  }
 ],
 "metadata": {
  "kernelspec": {
   "display_name": "Python 3",
   "language": "python",
   "name": "python3"
  },
  "language_info": {
   "name": "python",
   "version": "3.11.1 (main, Dec 23 2022, 09:39:26) [Clang 14.0.0 (clang-1400.0.29.202)]"
  },
  "orig_nbformat": 4,
  "vscode": {
   "interpreter": {
    "hash": "1a1af0ee75eeea9e2e1ee996c87e7a2b11a0bebd85af04bb136d915cefc0abce"
   }
  }
 },
 "nbformat": 4,
 "nbformat_minor": 2
}
